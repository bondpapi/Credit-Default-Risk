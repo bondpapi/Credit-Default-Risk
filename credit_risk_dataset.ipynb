{
 "cells": [
  {
   "cell_type": "markdown",
   "id": "8ead67cb",
   "metadata": {},
   "source": [
    "# HOME CREDIT DEFAULT RISK "
   ]
  },
  {
   "cell_type": "markdown",
   "id": "a904521c",
   "metadata": {},
   "source": [
    "## Business Objective\n",
    "\n",
    "Provide retail banks with risk evaluation models to predict the likelihood of loan default using applicant data."
   ]
  },
  {
   "cell_type": "markdown",
   "id": "747ea9bf",
   "metadata": {},
   "source": [
    "## Data Loading and Overview"
   ]
  },
  {
   "cell_type": "code",
   "execution_count": 1,
   "id": "770d05c7",
   "metadata": {},
   "outputs": [],
   "source": [
    "%load_ext autoreload\n",
    "%autoreload 2\n"
   ]
  },
  {
   "cell_type": "code",
   "execution_count": 2,
   "id": "8f39f48e",
   "metadata": {},
   "outputs": [],
   "source": [
    "import pandas as pd\n",
    "import numpy as np\n",
    "import matplotlib.pyplot as plt\n",
    "import seaborn as sns\n",
    "from sklearn.impute import KNNImputer\n",
    "from sklearn.preprocessing import StandardScaler, OneHotEncoder\n",
    "from sklearn.compose import ColumnTransformer\n",
    "from sklearn.pipeline import Pipeline\n",
    "from utils import read_csv_file, profile_missing, clean_application_data, clean_all_home_credit_tables\n",
    "from IPython.display import display"
   ]
  },
  {
   "cell_type": "markdown",
   "id": "38c5fa2a",
   "metadata": {},
   "source": [
    "## Per Table "
   ]
  },
  {
   "cell_type": "code",
   "execution_count": 3,
   "id": "72651f7d",
   "metadata": {},
   "outputs": [],
   "source": [
    "pd.set_option('display.max_colwidth', None)\n"
   ]
  },
  {
   "cell_type": "markdown",
   "id": "3a35dd14",
   "metadata": {},
   "source": [
    "### Application Train"
   ]
  },
  {
   "cell_type": "code",
   "execution_count": 4,
   "id": "3f1b3ce1",
   "metadata": {},
   "outputs": [
    {
     "name": "stdout",
     "output_type": "stream",
     "text": [
      "Loaded 'HomeCredit_columns_description.csv' — shape: (219, 5)\n"
     ]
    },
    {
     "data": {
      "application/vnd.microsoft.datawrangler.viewer.v0+json": {
       "columns": [
        {
         "name": "index",
         "rawType": "int64",
         "type": "integer"
        },
        {
         "name": "Row",
         "rawType": "object",
         "type": "string"
        },
        {
         "name": "MissingRatio",
         "rawType": "float64",
         "type": "float"
        },
        {
         "name": "Description",
         "rawType": "object",
         "type": "string"
        }
       ],
       "ref": "df2c7c16-5197-45a9-a2ce-2b25d87d8082",
       "rows": [
        [
         "0",
         "AMT_ANNUITY",
         "3.9022994299390916e-05",
         "Loan annuity"
        ],
        [
         "1",
         "AMT_GOODS_PRICE",
         "0.0009040327012692228",
         "For consumer loans it is the price of the goods for which the loan is given"
        ],
        [
         "2",
         "NAME_TYPE_SUITE",
         "0.004201475719567756",
         "Who was accompanying client when he was applying for the loan"
        ],
        [
         "3",
         "OWN_CAR_AGE",
         "0.6599081008484249",
         "Age of client's car"
        ],
        [
         "4",
         "OCCUPATION_TYPE",
         "0.31345545362604915",
         "What kind of occupation does the client have"
        ],
        [
         "5",
         "CNT_FAM_MEMBERS",
         "6.503832383231819e-06",
         "How many family members does client have"
        ],
        [
         "6",
         "EXT_SOURCE_1",
         "0.5638107254699832",
         "Normalized score from external data source"
        ],
        [
         "7",
         "EXT_SOURCE_2",
         "0.0021462646864665006",
         "Normalized score from external data source"
        ],
        [
         "8",
         "EXT_SOURCE_3",
         "0.19825307062186392",
         "Normalized score from external data source"
        ],
        [
         "9",
         "APARTMENTS_AVG",
         "0.5074972927797705",
         "Normalized information about building where the client lives, What is average (_AVG suffix), modus (_MODE suffix), median (_MEDI suffix) apartment size, common area, living area, age of building, number of elevators, number of entrances, state of the building, number of floor"
        ],
        [
         "10",
         "BASEMENTAREA_AVG",
         "0.5851595552679416",
         "Normalized information about building where the client lives, What is average (_AVG suffix), modus (_MODE suffix), median (_MEDI suffix) apartment size, common area, living area, age of building, number of elevators, number of entrances, state of the building, number of floor"
        ],
        [
         "11",
         "YEARS_BEGINEXPLUATATION_AVG",
         "0.48781019215572774",
         "Normalized information about building where the client lives, What is average (_AVG suffix), modus (_MODE suffix), median (_MEDI suffix) apartment size, common area, living area, age of building, number of elevators, number of entrances, state of the building, number of floor"
        ],
        [
         "12",
         "YEARS_BUILD_AVG",
         "0.6649778381911542",
         "Normalized information about building where the client lives, What is average (_AVG suffix), modus (_MODE suffix), median (_MEDI suffix) apartment size, common area, living area, age of building, number of elevators, number of entrances, state of the building, number of floor"
        ],
        [
         "13",
         "COMMONAREA_AVG",
         "0.6987229725115525",
         "Normalized information about building where the client lives, What is average (_AVG suffix), modus (_MODE suffix), median (_MEDI suffix) apartment size, common area, living area, age of building, number of elevators, number of entrances, state of the building, number of floor"
        ],
        [
         "14",
         "ELEVATORS_AVG",
         "0.532959796560123",
         "Normalized information about building where the client lives, What is average (_AVG suffix), modus (_MODE suffix), median (_MEDI suffix) apartment size, common area, living area, age of building, number of elevators, number of entrances, state of the building, number of floor"
        ],
        [
         "15",
         "ENTRANCES_AVG",
         "0.503487680115508",
         "Normalized information about building where the client lives, What is average (_AVG suffix), modus (_MODE suffix), median (_MEDI suffix) apartment size, common area, living area, age of building, number of elevators, number of entrances, state of the building, number of floor"
        ],
        [
         "16",
         "FLOORSMAX_AVG",
         "0.4976082156410665",
         "Normalized information about building where the client lives, What is average (_AVG suffix), modus (_MODE suffix), median (_MEDI suffix) apartment size, common area, living area, age of building, number of elevators, number of entrances, state of the building, number of floor"
        ],
        [
         "17",
         "FLOORSMIN_AVG",
         "0.6784862980511266",
         "Normalized information about building where the client lives, What is average (_AVG suffix), modus (_MODE suffix), median (_MEDI suffix) apartment size, common area, living area, age of building, number of elevators, number of entrances, state of the building, number of floor"
        ],
        [
         "18",
         "LANDAREA_AVG",
         "0.5937673774271489",
         "Normalized information about building where the client lives, What is average (_AVG suffix), modus (_MODE suffix), median (_MEDI suffix) apartment size, common area, living area, age of building, number of elevators, number of entrances, state of the building, number of floor"
        ],
        [
         "19",
         "LIVINGAPARTMENTS_AVG",
         "0.6835495315614726",
         "Normalized information about building where the client lives, What is average (_AVG suffix), modus (_MODE suffix), median (_MEDI suffix) apartment size, common area, living area, age of building, number of elevators, number of entrances, state of the building, number of floor"
        ]
       ],
       "shape": {
        "columns": 3,
        "rows": 20
       }
      },
      "text/html": [
       "<div>\n",
       "<style scoped>\n",
       "    .dataframe tbody tr th:only-of-type {\n",
       "        vertical-align: middle;\n",
       "    }\n",
       "\n",
       "    .dataframe tbody tr th {\n",
       "        vertical-align: top;\n",
       "    }\n",
       "\n",
       "    .dataframe thead th {\n",
       "        text-align: right;\n",
       "    }\n",
       "</style>\n",
       "<table border=\"1\" class=\"dataframe\">\n",
       "  <thead>\n",
       "    <tr style=\"text-align: right;\">\n",
       "      <th></th>\n",
       "      <th>Row</th>\n",
       "      <th>MissingRatio</th>\n",
       "      <th>Description</th>\n",
       "    </tr>\n",
       "  </thead>\n",
       "  <tbody>\n",
       "    <tr>\n",
       "      <th>0</th>\n",
       "      <td>AMT_ANNUITY</td>\n",
       "      <td>0.000039</td>\n",
       "      <td>Loan annuity</td>\n",
       "    </tr>\n",
       "    <tr>\n",
       "      <th>1</th>\n",
       "      <td>AMT_GOODS_PRICE</td>\n",
       "      <td>0.000904</td>\n",
       "      <td>For consumer loans it is the price of the goods for which the loan is given</td>\n",
       "    </tr>\n",
       "    <tr>\n",
       "      <th>2</th>\n",
       "      <td>NAME_TYPE_SUITE</td>\n",
       "      <td>0.004201</td>\n",
       "      <td>Who was accompanying client when he was applying for the loan</td>\n",
       "    </tr>\n",
       "    <tr>\n",
       "      <th>3</th>\n",
       "      <td>OWN_CAR_AGE</td>\n",
       "      <td>0.659908</td>\n",
       "      <td>Age of client's car</td>\n",
       "    </tr>\n",
       "    <tr>\n",
       "      <th>4</th>\n",
       "      <td>OCCUPATION_TYPE</td>\n",
       "      <td>0.313455</td>\n",
       "      <td>What kind of occupation does the client have</td>\n",
       "    </tr>\n",
       "    <tr>\n",
       "      <th>5</th>\n",
       "      <td>CNT_FAM_MEMBERS</td>\n",
       "      <td>0.000007</td>\n",
       "      <td>How many family members does client have</td>\n",
       "    </tr>\n",
       "    <tr>\n",
       "      <th>6</th>\n",
       "      <td>EXT_SOURCE_1</td>\n",
       "      <td>0.563811</td>\n",
       "      <td>Normalized score from external data source</td>\n",
       "    </tr>\n",
       "    <tr>\n",
       "      <th>7</th>\n",
       "      <td>EXT_SOURCE_2</td>\n",
       "      <td>0.002146</td>\n",
       "      <td>Normalized score from external data source</td>\n",
       "    </tr>\n",
       "    <tr>\n",
       "      <th>8</th>\n",
       "      <td>EXT_SOURCE_3</td>\n",
       "      <td>0.198253</td>\n",
       "      <td>Normalized score from external data source</td>\n",
       "    </tr>\n",
       "    <tr>\n",
       "      <th>9</th>\n",
       "      <td>APARTMENTS_AVG</td>\n",
       "      <td>0.507497</td>\n",
       "      <td>Normalized information about building where the client lives, What is average (_AVG suffix), modus (_MODE suffix), median (_MEDI suffix) apartment size, common area, living area, age of building, number of elevators, number of entrances, state of the building, number of floor</td>\n",
       "    </tr>\n",
       "    <tr>\n",
       "      <th>10</th>\n",
       "      <td>BASEMENTAREA_AVG</td>\n",
       "      <td>0.585160</td>\n",
       "      <td>Normalized information about building where the client lives, What is average (_AVG suffix), modus (_MODE suffix), median (_MEDI suffix) apartment size, common area, living area, age of building, number of elevators, number of entrances, state of the building, number of floor</td>\n",
       "    </tr>\n",
       "    <tr>\n",
       "      <th>11</th>\n",
       "      <td>YEARS_BEGINEXPLUATATION_AVG</td>\n",
       "      <td>0.487810</td>\n",
       "      <td>Normalized information about building where the client lives, What is average (_AVG suffix), modus (_MODE suffix), median (_MEDI suffix) apartment size, common area, living area, age of building, number of elevators, number of entrances, state of the building, number of floor</td>\n",
       "    </tr>\n",
       "    <tr>\n",
       "      <th>12</th>\n",
       "      <td>YEARS_BUILD_AVG</td>\n",
       "      <td>0.664978</td>\n",
       "      <td>Normalized information about building where the client lives, What is average (_AVG suffix), modus (_MODE suffix), median (_MEDI suffix) apartment size, common area, living area, age of building, number of elevators, number of entrances, state of the building, number of floor</td>\n",
       "    </tr>\n",
       "    <tr>\n",
       "      <th>13</th>\n",
       "      <td>COMMONAREA_AVG</td>\n",
       "      <td>0.698723</td>\n",
       "      <td>Normalized information about building where the client lives, What is average (_AVG suffix), modus (_MODE suffix), median (_MEDI suffix) apartment size, common area, living area, age of building, number of elevators, number of entrances, state of the building, number of floor</td>\n",
       "    </tr>\n",
       "    <tr>\n",
       "      <th>14</th>\n",
       "      <td>ELEVATORS_AVG</td>\n",
       "      <td>0.532960</td>\n",
       "      <td>Normalized information about building where the client lives, What is average (_AVG suffix), modus (_MODE suffix), median (_MEDI suffix) apartment size, common area, living area, age of building, number of elevators, number of entrances, state of the building, number of floor</td>\n",
       "    </tr>\n",
       "    <tr>\n",
       "      <th>15</th>\n",
       "      <td>ENTRANCES_AVG</td>\n",
       "      <td>0.503488</td>\n",
       "      <td>Normalized information about building where the client lives, What is average (_AVG suffix), modus (_MODE suffix), median (_MEDI suffix) apartment size, common area, living area, age of building, number of elevators, number of entrances, state of the building, number of floor</td>\n",
       "    </tr>\n",
       "    <tr>\n",
       "      <th>16</th>\n",
       "      <td>FLOORSMAX_AVG</td>\n",
       "      <td>0.497608</td>\n",
       "      <td>Normalized information about building where the client lives, What is average (_AVG suffix), modus (_MODE suffix), median (_MEDI suffix) apartment size, common area, living area, age of building, number of elevators, number of entrances, state of the building, number of floor</td>\n",
       "    </tr>\n",
       "    <tr>\n",
       "      <th>17</th>\n",
       "      <td>FLOORSMIN_AVG</td>\n",
       "      <td>0.678486</td>\n",
       "      <td>Normalized information about building where the client lives, What is average (_AVG suffix), modus (_MODE suffix), median (_MEDI suffix) apartment size, common area, living area, age of building, number of elevators, number of entrances, state of the building, number of floor</td>\n",
       "    </tr>\n",
       "    <tr>\n",
       "      <th>18</th>\n",
       "      <td>LANDAREA_AVG</td>\n",
       "      <td>0.593767</td>\n",
       "      <td>Normalized information about building where the client lives, What is average (_AVG suffix), modus (_MODE suffix), median (_MEDI suffix) apartment size, common area, living area, age of building, number of elevators, number of entrances, state of the building, number of floor</td>\n",
       "    </tr>\n",
       "    <tr>\n",
       "      <th>19</th>\n",
       "      <td>LIVINGAPARTMENTS_AVG</td>\n",
       "      <td>0.683550</td>\n",
       "      <td>Normalized information about building where the client lives, What is average (_AVG suffix), modus (_MODE suffix), median (_MEDI suffix) apartment size, common area, living area, age of building, number of elevators, number of entrances, state of the building, number of floor</td>\n",
       "    </tr>\n",
       "  </tbody>\n",
       "</table>\n",
       "</div>"
      ],
      "text/plain": [
       "                            Row  MissingRatio  \\\n",
       "0                   AMT_ANNUITY      0.000039   \n",
       "1               AMT_GOODS_PRICE      0.000904   \n",
       "2               NAME_TYPE_SUITE      0.004201   \n",
       "3                   OWN_CAR_AGE      0.659908   \n",
       "4               OCCUPATION_TYPE      0.313455   \n",
       "5               CNT_FAM_MEMBERS      0.000007   \n",
       "6                  EXT_SOURCE_1      0.563811   \n",
       "7                  EXT_SOURCE_2      0.002146   \n",
       "8                  EXT_SOURCE_3      0.198253   \n",
       "9                APARTMENTS_AVG      0.507497   \n",
       "10             BASEMENTAREA_AVG      0.585160   \n",
       "11  YEARS_BEGINEXPLUATATION_AVG      0.487810   \n",
       "12              YEARS_BUILD_AVG      0.664978   \n",
       "13               COMMONAREA_AVG      0.698723   \n",
       "14                ELEVATORS_AVG      0.532960   \n",
       "15                ENTRANCES_AVG      0.503488   \n",
       "16                FLOORSMAX_AVG      0.497608   \n",
       "17                FLOORSMIN_AVG      0.678486   \n",
       "18                 LANDAREA_AVG      0.593767   \n",
       "19         LIVINGAPARTMENTS_AVG      0.683550   \n",
       "\n",
       "                                                                                                                                                                                                                                                                             Description  \n",
       "0                                                                                                                                                                                                                                                                           Loan annuity  \n",
       "1                                                                                                                                                                                                            For consumer loans it is the price of the goods for which the loan is given  \n",
       "2                                                                                                                                                                                                                          Who was accompanying client when he was applying for the loan  \n",
       "3                                                                                                                                                                                                                                                                    Age of client's car  \n",
       "4                                                                                                                                                                                                                                           What kind of occupation does the client have  \n",
       "5                                                                                                                                                                                                                                               How many family members does client have  \n",
       "6                                                                                                                                                                                                                                             Normalized score from external data source  \n",
       "7                                                                                                                                                                                                                                             Normalized score from external data source  \n",
       "8                                                                                                                                                                                                                                             Normalized score from external data source  \n",
       "9   Normalized information about building where the client lives, What is average (_AVG suffix), modus (_MODE suffix), median (_MEDI suffix) apartment size, common area, living area, age of building, number of elevators, number of entrances, state of the building, number of floor  \n",
       "10  Normalized information about building where the client lives, What is average (_AVG suffix), modus (_MODE suffix), median (_MEDI suffix) apartment size, common area, living area, age of building, number of elevators, number of entrances, state of the building, number of floor  \n",
       "11  Normalized information about building where the client lives, What is average (_AVG suffix), modus (_MODE suffix), median (_MEDI suffix) apartment size, common area, living area, age of building, number of elevators, number of entrances, state of the building, number of floor  \n",
       "12  Normalized information about building where the client lives, What is average (_AVG suffix), modus (_MODE suffix), median (_MEDI suffix) apartment size, common area, living area, age of building, number of elevators, number of entrances, state of the building, number of floor  \n",
       "13  Normalized information about building where the client lives, What is average (_AVG suffix), modus (_MODE suffix), median (_MEDI suffix) apartment size, common area, living area, age of building, number of elevators, number of entrances, state of the building, number of floor  \n",
       "14  Normalized information about building where the client lives, What is average (_AVG suffix), modus (_MODE suffix), median (_MEDI suffix) apartment size, common area, living area, age of building, number of elevators, number of entrances, state of the building, number of floor  \n",
       "15  Normalized information about building where the client lives, What is average (_AVG suffix), modus (_MODE suffix), median (_MEDI suffix) apartment size, common area, living area, age of building, number of elevators, number of entrances, state of the building, number of floor  \n",
       "16  Normalized information about building where the client lives, What is average (_AVG suffix), modus (_MODE suffix), median (_MEDI suffix) apartment size, common area, living area, age of building, number of elevators, number of entrances, state of the building, number of floor  \n",
       "17  Normalized information about building where the client lives, What is average (_AVG suffix), modus (_MODE suffix), median (_MEDI suffix) apartment size, common area, living area, age of building, number of elevators, number of entrances, state of the building, number of floor  \n",
       "18  Normalized information about building where the client lives, What is average (_AVG suffix), modus (_MODE suffix), median (_MEDI suffix) apartment size, common area, living area, age of building, number of elevators, number of entrances, state of the building, number of floor  \n",
       "19  Normalized information about building where the client lives, What is average (_AVG suffix), modus (_MODE suffix), median (_MEDI suffix) apartment size, common area, living area, age of building, number of elevators, number of entrances, state of the building, number of floor  "
      ]
     },
     "metadata": {},
     "output_type": "display_data"
    }
   ],
   "source": [
    "df_app = pd.read_csv('application_train.csv')\n",
    "col_desc = read_csv_file('HomeCredit_columns_description.csv', encoding='ISO-8859-1')\n",
    "\n",
    "# === 2. Clean and filter column descriptions ===\n",
    "# Keep only relevant columns\n",
    "col_desc_cleaned = col_desc[['Table', 'Row', 'Description']].copy()\n",
    "\n",
    "# Filter for application train/test only\n",
    "desc_app = col_desc_cleaned[col_desc_cleaned['Table'].astype(str) == 'application_{train|test}.csv'].copy()\n",
    "\n",
    "# === 3. Profile missing values ===\n",
    "missing_summary = df_app.isnull().sum().to_frame(name='MissingCount')\n",
    "missing_summary['MissingRatio'] = missing_summary['MissingCount'] / len(df_app)\n",
    "missing_summary = missing_summary[missing_summary['MissingCount'] > 0].reset_index()\n",
    "missing_summary.columns = ['Row', 'MissingCount', 'MissingRatio']\n",
    "\n",
    "# === 4. Normalize for safe merging ===\n",
    "desc_app['Row_clean'] = desc_app['Row'].astype(str).str.strip().str.upper()\n",
    "missing_summary['Row_clean'] = missing_summary['Row'].astype(str).str.strip().str.upper()\n",
    "\n",
    "# === 5. Merge ===\n",
    "missing_merged = pd.merge(\n",
    "    missing_summary,\n",
    "    desc_app[['Row_clean', 'Description']],\n",
    "    on='Row_clean',\n",
    "    how='left'\n",
    ")\n",
    "\n",
    "# === 6. Show output ===\n",
    "missing_merged['Row'] = missing_summary['Row']\n",
    "display(missing_merged[['Row', 'MissingRatio', 'Description']].head(20))"
   ]
  },
  {
   "cell_type": "markdown",
   "id": "223c459b",
   "metadata": {},
   "source": [
    "### Bureau "
   ]
  },
  {
   "cell_type": "code",
   "execution_count": 5,
   "id": "38eab139",
   "metadata": {},
   "outputs": [
    {
     "name": "stdout",
     "output_type": "stream",
     "text": [
      "Loaded 'bureau.csv' — shape: (1716428, 17)\n",
      "Loaded 'HomeCredit_columns_description.csv' — shape: (219, 5)\n"
     ]
    },
    {
     "data": {
      "application/vnd.microsoft.datawrangler.viewer.v0+json": {
       "columns": [
        {
         "name": "index",
         "rawType": "int64",
         "type": "integer"
        },
        {
         "name": "Row",
         "rawType": "object",
         "type": "string"
        },
        {
         "name": "MissingRatio",
         "rawType": "float64",
         "type": "float"
        },
        {
         "name": "Description",
         "rawType": "object",
         "type": "string"
        }
       ],
       "ref": "05db3f47-36e4-40af-a4f8-453da0d3b451",
       "rows": [
        [
         "0",
         "DAYS_CREDIT_ENDDATE",
         "0.06149573416420613",
         "Remaining duration of CB credit (in days) at the time of application in Home Credit"
        ],
        [
         "1",
         "DAYS_ENDDATE_FACT",
         "0.36916957775100384",
         "Days since CB credit ended at the time of application in Home Credit (only for closed credit)"
        ],
        [
         "2",
         "AMT_CREDIT_MAX_OVERDUE",
         "0.6551326359159837",
         "Maximal amount overdue on the Credit Bureau credit so far (at application date of loan in our sample)"
        ],
        [
         "3",
         "AMT_CREDIT_SUM",
         "7.573868522303295e-06",
         "Current credit amount for the Credit Bureau credit"
        ],
        [
         "4",
         "AMT_CREDIT_SUM_DEBT",
         "0.15011931755948982",
         "Current debt on Credit Bureau credit"
        ],
        [
         "5",
         "AMT_CREDIT_SUM_LIMIT",
         "0.3447741472406649",
         "Current credit limit of credit card reported in Credit Bureau"
        ],
        [
         "6",
         "AMT_ANNUITY",
         "0.714734902949614",
         "Annuity of the Credit Bureau credit"
        ]
       ],
       "shape": {
        "columns": 3,
        "rows": 7
       }
      },
      "text/html": [
       "<div>\n",
       "<style scoped>\n",
       "    .dataframe tbody tr th:only-of-type {\n",
       "        vertical-align: middle;\n",
       "    }\n",
       "\n",
       "    .dataframe tbody tr th {\n",
       "        vertical-align: top;\n",
       "    }\n",
       "\n",
       "    .dataframe thead th {\n",
       "        text-align: right;\n",
       "    }\n",
       "</style>\n",
       "<table border=\"1\" class=\"dataframe\">\n",
       "  <thead>\n",
       "    <tr style=\"text-align: right;\">\n",
       "      <th></th>\n",
       "      <th>Row</th>\n",
       "      <th>MissingRatio</th>\n",
       "      <th>Description</th>\n",
       "    </tr>\n",
       "  </thead>\n",
       "  <tbody>\n",
       "    <tr>\n",
       "      <th>0</th>\n",
       "      <td>DAYS_CREDIT_ENDDATE</td>\n",
       "      <td>0.061496</td>\n",
       "      <td>Remaining duration of CB credit (in days) at the time of application in Home Credit</td>\n",
       "    </tr>\n",
       "    <tr>\n",
       "      <th>1</th>\n",
       "      <td>DAYS_ENDDATE_FACT</td>\n",
       "      <td>0.369170</td>\n",
       "      <td>Days since CB credit ended at the time of application in Home Credit (only for closed credit)</td>\n",
       "    </tr>\n",
       "    <tr>\n",
       "      <th>2</th>\n",
       "      <td>AMT_CREDIT_MAX_OVERDUE</td>\n",
       "      <td>0.655133</td>\n",
       "      <td>Maximal amount overdue on the Credit Bureau credit so far (at application date of loan in our sample)</td>\n",
       "    </tr>\n",
       "    <tr>\n",
       "      <th>3</th>\n",
       "      <td>AMT_CREDIT_SUM</td>\n",
       "      <td>0.000008</td>\n",
       "      <td>Current credit amount for the Credit Bureau credit</td>\n",
       "    </tr>\n",
       "    <tr>\n",
       "      <th>4</th>\n",
       "      <td>AMT_CREDIT_SUM_DEBT</td>\n",
       "      <td>0.150119</td>\n",
       "      <td>Current debt on Credit Bureau credit</td>\n",
       "    </tr>\n",
       "    <tr>\n",
       "      <th>5</th>\n",
       "      <td>AMT_CREDIT_SUM_LIMIT</td>\n",
       "      <td>0.344774</td>\n",
       "      <td>Current credit limit of credit card reported in Credit Bureau</td>\n",
       "    </tr>\n",
       "    <tr>\n",
       "      <th>6</th>\n",
       "      <td>AMT_ANNUITY</td>\n",
       "      <td>0.714735</td>\n",
       "      <td>Annuity of the Credit Bureau credit</td>\n",
       "    </tr>\n",
       "  </tbody>\n",
       "</table>\n",
       "</div>"
      ],
      "text/plain": [
       "                      Row  MissingRatio  \\\n",
       "0     DAYS_CREDIT_ENDDATE      0.061496   \n",
       "1       DAYS_ENDDATE_FACT      0.369170   \n",
       "2  AMT_CREDIT_MAX_OVERDUE      0.655133   \n",
       "3          AMT_CREDIT_SUM      0.000008   \n",
       "4     AMT_CREDIT_SUM_DEBT      0.150119   \n",
       "5    AMT_CREDIT_SUM_LIMIT      0.344774   \n",
       "6             AMT_ANNUITY      0.714735   \n",
       "\n",
       "                                                                                             Description  \n",
       "0                    Remaining duration of CB credit (in days) at the time of application in Home Credit  \n",
       "1          Days since CB credit ended at the time of application in Home Credit (only for closed credit)  \n",
       "2  Maximal amount overdue on the Credit Bureau credit so far (at application date of loan in our sample)  \n",
       "3                                                     Current credit amount for the Credit Bureau credit  \n",
       "4                                                                   Current debt on Credit Bureau credit  \n",
       "5                                          Current credit limit of credit card reported in Credit Bureau  \n",
       "6                                                                    Annuity of the Credit Bureau credit  "
      ]
     },
     "metadata": {},
     "output_type": "display_data"
    }
   ],
   "source": [
    "df_bureau = read_csv_file('bureau.csv')\n",
    "col_desc = read_csv_file('HomeCredit_columns_description.csv', encoding='ISO-8859-1')\n",
    "\n",
    "# === 2. Clean column descriptions ===\n",
    "col_desc_cleaned = col_desc[['Table', 'Row', 'Description']].copy()\n",
    "\n",
    "# Filter for bureau.csv\n",
    "desc_bureau = col_desc_cleaned[col_desc_cleaned['Table'].astype(str) == 'bureau.csv'].copy()\n",
    "\n",
    "# === 3. Profile missing values ===\n",
    "missing_summary = df_bureau.isnull().sum().to_frame(name='MissingCount')\n",
    "missing_summary['MissingRatio'] = missing_summary['MissingCount'] / len(df_bureau)\n",
    "missing_summary = missing_summary[missing_summary['MissingCount'] > 0].reset_index()\n",
    "missing_summary.columns = ['Row', 'MissingCount', 'MissingRatio']\n",
    "\n",
    "# === 4. Normalize for merging ===\n",
    "desc_bureau['Row_clean'] = desc_bureau['Row'].astype(str).str.strip().str.upper()\n",
    "missing_summary['Row_clean'] = missing_summary['Row'].astype(str).str.strip().str.upper()\n",
    "\n",
    "# === 5. Merge ===\n",
    "missing_merged = pd.merge(\n",
    "    missing_summary,\n",
    "    desc_bureau[['Row_clean', 'Description']],\n",
    "    on='Row_clean',\n",
    "    how='left'\n",
    ")\n",
    "\n",
    "# === 6. Display ===\n",
    "missing_merged['Row'] = missing_summary['Row']\n",
    "display(missing_merged[['Row', 'MissingRatio', 'Description']].head(20))"
   ]
  },
  {
   "cell_type": "markdown",
   "id": "6ed42727",
   "metadata": {},
   "source": [
    "### Bureau Balance"
   ]
  },
  {
   "cell_type": "code",
   "execution_count": 6,
   "id": "74f78b07",
   "metadata": {},
   "outputs": [
    {
     "name": "stdout",
     "output_type": "stream",
     "text": [
      "Loaded 'bureau_balance.csv' — shape: (27299925, 3)\n",
      "Loaded 'HomeCredit_columns_description.csv' — shape: (219, 5)\n"
     ]
    },
    {
     "data": {
      "application/vnd.microsoft.datawrangler.viewer.v0+json": {
       "columns": [
        {
         "name": "index",
         "rawType": "int64",
         "type": "integer"
        },
        {
         "name": "Row",
         "rawType": "object",
         "type": "string"
        },
        {
         "name": "MissingRatio",
         "rawType": "float64",
         "type": "float"
        },
        {
         "name": "Description",
         "rawType": "object",
         "type": "string"
        }
       ],
       "ref": "21361370-d954-441d-a410-5bcd868280a5",
       "rows": [],
       "shape": {
        "columns": 3,
        "rows": 0
       }
      },
      "text/html": [
       "<div>\n",
       "<style scoped>\n",
       "    .dataframe tbody tr th:only-of-type {\n",
       "        vertical-align: middle;\n",
       "    }\n",
       "\n",
       "    .dataframe tbody tr th {\n",
       "        vertical-align: top;\n",
       "    }\n",
       "\n",
       "    .dataframe thead th {\n",
       "        text-align: right;\n",
       "    }\n",
       "</style>\n",
       "<table border=\"1\" class=\"dataframe\">\n",
       "  <thead>\n",
       "    <tr style=\"text-align: right;\">\n",
       "      <th></th>\n",
       "      <th>Row</th>\n",
       "      <th>MissingRatio</th>\n",
       "      <th>Description</th>\n",
       "    </tr>\n",
       "  </thead>\n",
       "  <tbody>\n",
       "  </tbody>\n",
       "</table>\n",
       "</div>"
      ],
      "text/plain": [
       "Empty DataFrame\n",
       "Columns: [Row, MissingRatio, Description]\n",
       "Index: []"
      ]
     },
     "metadata": {},
     "output_type": "display_data"
    }
   ],
   "source": [
    "df_bureau_bal = read_csv_file('bureau_balance.csv')\n",
    "col_desc = read_csv_file('HomeCredit_columns_description.csv', encoding='ISO-8859-1')\n",
    "\n",
    "# === 2. Clean column descriptions ===\n",
    "col_desc_cleaned = col_desc[['Table', 'Row', 'Description']].copy()\n",
    "\n",
    "# Filter for bureau.csv\n",
    "desc_bureau_bal = col_desc_cleaned[col_desc_cleaned['Table'].astype(str) == 'bureau_balance.csv'].copy()\n",
    "\n",
    "# === 3. Profile missing values ===\n",
    "missing_summary = df_bureau_bal.isnull().sum().to_frame(name='MissingCount')\n",
    "missing_summary['MissingRatio'] = missing_summary['MissingCount'] / len(df_bureau_bal)\n",
    "missing_summary = missing_summary[missing_summary['MissingCount'] > 0].reset_index()\n",
    "missing_summary.columns = ['Row', 'MissingCount', 'MissingRatio']\n",
    "\n",
    "# === 4. Normalize for merging ===\n",
    "desc_bureau_bal['Row_clean'] = desc_bureau_bal['Row'].astype(str).str.strip().str.upper()\n",
    "missing_summary['Row_clean'] = missing_summary['Row'].astype(str).str.strip().str.upper()\n",
    "\n",
    "# === 5. Merge ===\n",
    "missing_merged = pd.merge(\n",
    "    missing_summary,\n",
    "    desc_bureau_bal[['Row_clean', 'Description']],\n",
    "    on='Row_clean',\n",
    "    how='left'\n",
    ")\n",
    "\n",
    "# === 6. Display ===\n",
    "missing_merged['Row'] = missing_summary['Row']\n",
    "display(missing_merged[['Row', 'MissingRatio', 'Description']].head(20))"
   ]
  },
  {
   "cell_type": "markdown",
   "id": "6b116830",
   "metadata": {},
   "source": [
    "### Previous Application"
   ]
  },
  {
   "cell_type": "code",
   "execution_count": 7,
   "id": "2c57257a",
   "metadata": {},
   "outputs": [
    {
     "data": {
      "application/vnd.microsoft.datawrangler.viewer.v0+json": {
       "columns": [
        {
         "name": "index",
         "rawType": "int64",
         "type": "integer"
        },
        {
         "name": "Row",
         "rawType": "object",
         "type": "string"
        },
        {
         "name": "MissingRatio",
         "rawType": "float64",
         "type": "float"
        },
        {
         "name": "Description",
         "rawType": "object",
         "type": "string"
        }
       ],
       "ref": "8e3055f2-eaf1-4e93-9ae3-bf3573e76648",
       "rows": [
        [
         "0",
         "AMT_ANNUITY",
         "0.22286665062081865",
         "Annuity of previous application"
        ],
        [
         "1",
         "AMT_CREDIT",
         "5.987256722791211e-07",
         "Final credit amount on the previous application. This differs from AMT_APPLICATION in a way that the AMT_APPLICATION is the amount for which the client initially applied for, but during our approval process he could have received different amount - AMT_CREDIT"
        ],
        [
         "2",
         "AMT_DOWN_PAYMENT",
         "0.536364801157217",
         "Down payment on the previous application"
        ],
        [
         "3",
         "AMT_GOODS_PRICE",
         "0.23081772754868538",
         "Goods price of good that client asked for (if applicable) on the previous application"
        ],
        [
         "4",
         "RATE_DOWN_PAYMENT",
         "0.536364801157217",
         "Down payment rate normalized on previous credit"
        ],
        [
         "5",
         "RATE_INTEREST_PRIMARY",
         "0.9964369835242669",
         "Interest rate normalized on previous credit"
        ],
        [
         "6",
         "RATE_INTEREST_PRIVILEGED",
         "0.9964369835242669",
         "Interest rate normalized on previous credit"
        ],
        [
         "7",
         "NAME_TYPE_SUITE",
         "0.4911975351661524",
         "Who accompanied client when applying for the previous application"
        ],
        [
         "8",
         "CNT_PAYMENT",
         "0.22286365699245725",
         "Term of previous credit at application of the previous application"
        ],
        [
         "9",
         "PRODUCT_COMBINATION",
         "0.0002071590826085759",
         "Detailed product combination of the previous application"
        ],
        [
         "10",
         "DAYS_FIRST_DRAWING",
         "0.40298129461254667",
         "Relative to application date of current application when was the first disbursement of the previous application"
        ],
        [
         "11",
         "DAYS_FIRST_DUE",
         "0.40298129461254667",
         "Relative to application date of current application when was the first due supposed to be of the previous application"
        ],
        [
         "12",
         "DAYS_LAST_DUE_1ST_VERSION",
         "0.40298129461254667",
         "Relative to application date of current application when was the first due of the previous application"
        ],
        [
         "13",
         "DAYS_LAST_DUE",
         "0.40298129461254667",
         "Relative to application date of current application when was the last due date of the previous application"
        ],
        [
         "14",
         "DAYS_TERMINATION",
         "0.40298129461254667",
         "Relative to application date of current application when was the expected termination of the previous application"
        ],
        [
         "15",
         "NFLAG_INSURED_ON_APPROVAL",
         "0.40298129461254667",
         "Did the client requested insurance during the previous application"
        ]
       ],
       "shape": {
        "columns": 3,
        "rows": 16
       }
      },
      "text/html": [
       "<div>\n",
       "<style scoped>\n",
       "    .dataframe tbody tr th:only-of-type {\n",
       "        vertical-align: middle;\n",
       "    }\n",
       "\n",
       "    .dataframe tbody tr th {\n",
       "        vertical-align: top;\n",
       "    }\n",
       "\n",
       "    .dataframe thead th {\n",
       "        text-align: right;\n",
       "    }\n",
       "</style>\n",
       "<table border=\"1\" class=\"dataframe\">\n",
       "  <thead>\n",
       "    <tr style=\"text-align: right;\">\n",
       "      <th></th>\n",
       "      <th>Row</th>\n",
       "      <th>MissingRatio</th>\n",
       "      <th>Description</th>\n",
       "    </tr>\n",
       "  </thead>\n",
       "  <tbody>\n",
       "    <tr>\n",
       "      <th>0</th>\n",
       "      <td>AMT_ANNUITY</td>\n",
       "      <td>2.228667e-01</td>\n",
       "      <td>Annuity of previous application</td>\n",
       "    </tr>\n",
       "    <tr>\n",
       "      <th>1</th>\n",
       "      <td>AMT_CREDIT</td>\n",
       "      <td>5.987257e-07</td>\n",
       "      <td>Final credit amount on the previous application. This differs from AMT_APPLICATION in a way that the AMT_APPLICATION is the amount for which the client initially applied for, but during our approval process he could have received different amount - AMT_CREDIT</td>\n",
       "    </tr>\n",
       "    <tr>\n",
       "      <th>2</th>\n",
       "      <td>AMT_DOWN_PAYMENT</td>\n",
       "      <td>5.363648e-01</td>\n",
       "      <td>Down payment on the previous application</td>\n",
       "    </tr>\n",
       "    <tr>\n",
       "      <th>3</th>\n",
       "      <td>AMT_GOODS_PRICE</td>\n",
       "      <td>2.308177e-01</td>\n",
       "      <td>Goods price of good that client asked for (if applicable) on the previous application</td>\n",
       "    </tr>\n",
       "    <tr>\n",
       "      <th>4</th>\n",
       "      <td>RATE_DOWN_PAYMENT</td>\n",
       "      <td>5.363648e-01</td>\n",
       "      <td>Down payment rate normalized on previous credit</td>\n",
       "    </tr>\n",
       "    <tr>\n",
       "      <th>5</th>\n",
       "      <td>RATE_INTEREST_PRIMARY</td>\n",
       "      <td>9.964370e-01</td>\n",
       "      <td>Interest rate normalized on previous credit</td>\n",
       "    </tr>\n",
       "    <tr>\n",
       "      <th>6</th>\n",
       "      <td>RATE_INTEREST_PRIVILEGED</td>\n",
       "      <td>9.964370e-01</td>\n",
       "      <td>Interest rate normalized on previous credit</td>\n",
       "    </tr>\n",
       "    <tr>\n",
       "      <th>7</th>\n",
       "      <td>NAME_TYPE_SUITE</td>\n",
       "      <td>4.911975e-01</td>\n",
       "      <td>Who accompanied client when applying for the previous application</td>\n",
       "    </tr>\n",
       "    <tr>\n",
       "      <th>8</th>\n",
       "      <td>CNT_PAYMENT</td>\n",
       "      <td>2.228637e-01</td>\n",
       "      <td>Term of previous credit at application of the previous application</td>\n",
       "    </tr>\n",
       "    <tr>\n",
       "      <th>9</th>\n",
       "      <td>PRODUCT_COMBINATION</td>\n",
       "      <td>2.071591e-04</td>\n",
       "      <td>Detailed product combination of the previous application</td>\n",
       "    </tr>\n",
       "    <tr>\n",
       "      <th>10</th>\n",
       "      <td>DAYS_FIRST_DRAWING</td>\n",
       "      <td>4.029813e-01</td>\n",
       "      <td>Relative to application date of current application when was the first disbursement of the previous application</td>\n",
       "    </tr>\n",
       "    <tr>\n",
       "      <th>11</th>\n",
       "      <td>DAYS_FIRST_DUE</td>\n",
       "      <td>4.029813e-01</td>\n",
       "      <td>Relative to application date of current application when was the first due supposed to be of the previous application</td>\n",
       "    </tr>\n",
       "    <tr>\n",
       "      <th>12</th>\n",
       "      <td>DAYS_LAST_DUE_1ST_VERSION</td>\n",
       "      <td>4.029813e-01</td>\n",
       "      <td>Relative to application date of current application when was the first due of the previous application</td>\n",
       "    </tr>\n",
       "    <tr>\n",
       "      <th>13</th>\n",
       "      <td>DAYS_LAST_DUE</td>\n",
       "      <td>4.029813e-01</td>\n",
       "      <td>Relative to application date of current application when was the last due date of the previous application</td>\n",
       "    </tr>\n",
       "    <tr>\n",
       "      <th>14</th>\n",
       "      <td>DAYS_TERMINATION</td>\n",
       "      <td>4.029813e-01</td>\n",
       "      <td>Relative to application date of current application when was the expected termination of the previous application</td>\n",
       "    </tr>\n",
       "    <tr>\n",
       "      <th>15</th>\n",
       "      <td>NFLAG_INSURED_ON_APPROVAL</td>\n",
       "      <td>4.029813e-01</td>\n",
       "      <td>Did the client requested insurance during the previous application</td>\n",
       "    </tr>\n",
       "  </tbody>\n",
       "</table>\n",
       "</div>"
      ],
      "text/plain": [
       "                          Row  MissingRatio  \\\n",
       "0                 AMT_ANNUITY  2.228667e-01   \n",
       "1                  AMT_CREDIT  5.987257e-07   \n",
       "2            AMT_DOWN_PAYMENT  5.363648e-01   \n",
       "3             AMT_GOODS_PRICE  2.308177e-01   \n",
       "4           RATE_DOWN_PAYMENT  5.363648e-01   \n",
       "5       RATE_INTEREST_PRIMARY  9.964370e-01   \n",
       "6    RATE_INTEREST_PRIVILEGED  9.964370e-01   \n",
       "7             NAME_TYPE_SUITE  4.911975e-01   \n",
       "8                 CNT_PAYMENT  2.228637e-01   \n",
       "9         PRODUCT_COMBINATION  2.071591e-04   \n",
       "10         DAYS_FIRST_DRAWING  4.029813e-01   \n",
       "11             DAYS_FIRST_DUE  4.029813e-01   \n",
       "12  DAYS_LAST_DUE_1ST_VERSION  4.029813e-01   \n",
       "13              DAYS_LAST_DUE  4.029813e-01   \n",
       "14           DAYS_TERMINATION  4.029813e-01   \n",
       "15  NFLAG_INSURED_ON_APPROVAL  4.029813e-01   \n",
       "\n",
       "                                                                                                                                                                                                                                                            Description  \n",
       "0                                                                                                                                                                                                                                       Annuity of previous application  \n",
       "1   Final credit amount on the previous application. This differs from AMT_APPLICATION in a way that the AMT_APPLICATION is the amount for which the client initially applied for, but during our approval process he could have received different amount - AMT_CREDIT  \n",
       "2                                                                                                                                                                                                                              Down payment on the previous application  \n",
       "3                                                                                                                                                                                 Goods price of good that client asked for (if applicable) on the previous application  \n",
       "4                                                                                                                                                                                                                       Down payment rate normalized on previous credit  \n",
       "5                                                                                                                                                                                                                           Interest rate normalized on previous credit  \n",
       "6                                                                                                                                                                                                                           Interest rate normalized on previous credit  \n",
       "7                                                                                                                                                                                                     Who accompanied client when applying for the previous application  \n",
       "8                                                                                                                                                                                                    Term of previous credit at application of the previous application  \n",
       "9                                                                                                                                                                                                              Detailed product combination of the previous application  \n",
       "10                                                                                                                                                      Relative to application date of current application when was the first disbursement of the previous application  \n",
       "11                                                                                                                                                Relative to application date of current application when was the first due supposed to be of the previous application  \n",
       "12                                                                                                                                                               Relative to application date of current application when was the first due of the previous application  \n",
       "13                                                                                                                                                           Relative to application date of current application when was the last due date of the previous application  \n",
       "14                                                                                                                                                    Relative to application date of current application when was the expected termination of the previous application  \n",
       "15                                                                                                                                                                                                   Did the client requested insurance during the previous application  "
      ]
     },
     "metadata": {},
     "output_type": "display_data"
    }
   ],
   "source": [
    "# Load files\n",
    "df_prev = pd.read_csv('previous_application.csv')\n",
    "col_desc = pd.read_csv('HomeCredit_columns_description.csv', encoding='ISO-8859-1')\n",
    "\n",
    "# Clean column description\n",
    "col_desc_cleaned = col_desc[['Table', 'Row', 'Description']].copy()\n",
    "desc_prev = col_desc_cleaned[col_desc_cleaned['Table'].astype(str) == 'previous_application.csv'].copy()\n",
    "\n",
    "# Profile missing values\n",
    "missing_summary = df_prev.isnull().sum().to_frame(name='MissingCount')\n",
    "missing_summary['MissingRatio'] = missing_summary['MissingCount'] / len(df_prev)\n",
    "missing_summary = missing_summary[missing_summary['MissingCount'] > 0].reset_index()\n",
    "missing_summary.columns = ['Row', 'MissingCount', 'MissingRatio']\n",
    "\n",
    "# Normalize keys for merge\n",
    "desc_prev['Row_clean'] = desc_prev['Row'].astype(str).str.strip().str.upper()\n",
    "missing_summary['Row_clean'] = missing_summary['Row'].astype(str).str.strip().str.upper()\n",
    "\n",
    "# Merge\n",
    "missing_merged = pd.merge(\n",
    "    missing_summary,\n",
    "    desc_prev[['Row_clean', 'Description']],\n",
    "    on='Row_clean',\n",
    "    how='left'\n",
    ")\n",
    "\n",
    "# Restore original row name\n",
    "missing_merged['Row'] = missing_summary['Row']\n",
    "\n",
    "# Display result\n",
    "display(missing_merged[['Row', 'MissingRatio', 'Description']])\n"
   ]
  },
  {
   "cell_type": "markdown",
   "id": "623ea8b0",
   "metadata": {},
   "source": [
    "### Credit Card Balance"
   ]
  },
  {
   "cell_type": "code",
   "execution_count": 8,
   "id": "a24906f9",
   "metadata": {},
   "outputs": [
    {
     "data": {
      "application/vnd.microsoft.datawrangler.viewer.v0+json": {
       "columns": [
        {
         "name": "index",
         "rawType": "int64",
         "type": "integer"
        },
        {
         "name": "Row",
         "rawType": "object",
         "type": "string"
        },
        {
         "name": "MissingRatio",
         "rawType": "float64",
         "type": "float"
        },
        {
         "name": "Description",
         "rawType": "object",
         "type": "string"
        }
       ],
       "ref": "007704b1-9ef3-4bb2-9940-61500d8eb633",
       "rows": [
        [
         "0",
         "AMT_DRAWINGS_ATM_CURRENT",
         "0.1952487193748841",
         "Amount drawing at ATM during the month of the previous credit"
        ],
        [
         "1",
         "AMT_DRAWINGS_OTHER_CURRENT",
         "0.1952487193748841",
         "Amount of other drawings during the month of the previous credit"
        ],
        [
         "2",
         "AMT_DRAWINGS_POS_CURRENT",
         "0.1952487193748841",
         "Amount drawing or buying goods during the month of the previous credit"
        ],
        [
         "3",
         "AMT_INST_MIN_REGULARITY",
         "0.0794820837473622",
         "Minimal installment for this month of the previous credit"
        ],
        [
         "4",
         "AMT_PAYMENT_CURRENT",
         "0.19998062657409085",
         "How much did the client pay during the month on the previous credit"
        ],
        [
         "5",
         "CNT_DRAWINGS_ATM_CURRENT",
         "0.1952487193748841",
         "Number of drawings at ATM during this month on the previous credit"
        ],
        [
         "6",
         "CNT_DRAWINGS_OTHER_CURRENT",
         "0.1952487193748841",
         "Number of other drawings during this month on the previous credit"
        ],
        [
         "7",
         "CNT_DRAWINGS_POS_CURRENT",
         "0.1952487193748841",
         "Number of drawings for goods during this month on the previous credit"
        ],
        [
         "8",
         "CNT_INSTALMENT_MATURE_CUM",
         "0.0794820837473622",
         "Number of paid installments on the previous credit"
        ]
       ],
       "shape": {
        "columns": 3,
        "rows": 9
       }
      },
      "text/html": [
       "<div>\n",
       "<style scoped>\n",
       "    .dataframe tbody tr th:only-of-type {\n",
       "        vertical-align: middle;\n",
       "    }\n",
       "\n",
       "    .dataframe tbody tr th {\n",
       "        vertical-align: top;\n",
       "    }\n",
       "\n",
       "    .dataframe thead th {\n",
       "        text-align: right;\n",
       "    }\n",
       "</style>\n",
       "<table border=\"1\" class=\"dataframe\">\n",
       "  <thead>\n",
       "    <tr style=\"text-align: right;\">\n",
       "      <th></th>\n",
       "      <th>Row</th>\n",
       "      <th>MissingRatio</th>\n",
       "      <th>Description</th>\n",
       "    </tr>\n",
       "  </thead>\n",
       "  <tbody>\n",
       "    <tr>\n",
       "      <th>0</th>\n",
       "      <td>AMT_DRAWINGS_ATM_CURRENT</td>\n",
       "      <td>0.195249</td>\n",
       "      <td>Amount drawing at ATM during the month of the previous credit</td>\n",
       "    </tr>\n",
       "    <tr>\n",
       "      <th>1</th>\n",
       "      <td>AMT_DRAWINGS_OTHER_CURRENT</td>\n",
       "      <td>0.195249</td>\n",
       "      <td>Amount of other drawings during the month of the previous credit</td>\n",
       "    </tr>\n",
       "    <tr>\n",
       "      <th>2</th>\n",
       "      <td>AMT_DRAWINGS_POS_CURRENT</td>\n",
       "      <td>0.195249</td>\n",
       "      <td>Amount drawing or buying goods during the month of the previous credit</td>\n",
       "    </tr>\n",
       "    <tr>\n",
       "      <th>3</th>\n",
       "      <td>AMT_INST_MIN_REGULARITY</td>\n",
       "      <td>0.079482</td>\n",
       "      <td>Minimal installment for this month of the previous credit</td>\n",
       "    </tr>\n",
       "    <tr>\n",
       "      <th>4</th>\n",
       "      <td>AMT_PAYMENT_CURRENT</td>\n",
       "      <td>0.199981</td>\n",
       "      <td>How much did the client pay during the month on the previous credit</td>\n",
       "    </tr>\n",
       "    <tr>\n",
       "      <th>5</th>\n",
       "      <td>CNT_DRAWINGS_ATM_CURRENT</td>\n",
       "      <td>0.195249</td>\n",
       "      <td>Number of drawings at ATM during this month on the previous credit</td>\n",
       "    </tr>\n",
       "    <tr>\n",
       "      <th>6</th>\n",
       "      <td>CNT_DRAWINGS_OTHER_CURRENT</td>\n",
       "      <td>0.195249</td>\n",
       "      <td>Number of other drawings during this month on the previous credit</td>\n",
       "    </tr>\n",
       "    <tr>\n",
       "      <th>7</th>\n",
       "      <td>CNT_DRAWINGS_POS_CURRENT</td>\n",
       "      <td>0.195249</td>\n",
       "      <td>Number of drawings for goods during this month on the previous credit</td>\n",
       "    </tr>\n",
       "    <tr>\n",
       "      <th>8</th>\n",
       "      <td>CNT_INSTALMENT_MATURE_CUM</td>\n",
       "      <td>0.079482</td>\n",
       "      <td>Number of paid installments on the previous credit</td>\n",
       "    </tr>\n",
       "  </tbody>\n",
       "</table>\n",
       "</div>"
      ],
      "text/plain": [
       "                          Row  MissingRatio  \\\n",
       "0    AMT_DRAWINGS_ATM_CURRENT      0.195249   \n",
       "1  AMT_DRAWINGS_OTHER_CURRENT      0.195249   \n",
       "2    AMT_DRAWINGS_POS_CURRENT      0.195249   \n",
       "3     AMT_INST_MIN_REGULARITY      0.079482   \n",
       "4         AMT_PAYMENT_CURRENT      0.199981   \n",
       "5    CNT_DRAWINGS_ATM_CURRENT      0.195249   \n",
       "6  CNT_DRAWINGS_OTHER_CURRENT      0.195249   \n",
       "7    CNT_DRAWINGS_POS_CURRENT      0.195249   \n",
       "8   CNT_INSTALMENT_MATURE_CUM      0.079482   \n",
       "\n",
       "                                                              Description  \n",
       "0           Amount drawing at ATM during the month of the previous credit  \n",
       "1        Amount of other drawings during the month of the previous credit  \n",
       "2  Amount drawing or buying goods during the month of the previous credit  \n",
       "3               Minimal installment for this month of the previous credit  \n",
       "4     How much did the client pay during the month on the previous credit  \n",
       "5      Number of drawings at ATM during this month on the previous credit  \n",
       "6       Number of other drawings during this month on the previous credit  \n",
       "7   Number of drawings for goods during this month on the previous credit  \n",
       "8                      Number of paid installments on the previous credit  "
      ]
     },
     "metadata": {},
     "output_type": "display_data"
    }
   ],
   "source": [
    "# Load files\n",
    "df_cc = pd.read_csv('credit_card_balance.csv')\n",
    "col_desc = pd.read_csv('HomeCredit_columns_description.csv', encoding='ISO-8859-1')\n",
    "\n",
    "# Clean column description\n",
    "col_desc_cleaned = col_desc[['Table', 'Row', 'Description']].copy()\n",
    "desc_cc = col_desc_cleaned[col_desc_cleaned['Table'].astype(str) == 'credit_card_balance.csv'].copy()\n",
    "\n",
    "# Profile missing values\n",
    "missing_summary = df_cc.isnull().sum().to_frame(name='MissingCount')\n",
    "missing_summary['MissingRatio'] = missing_summary['MissingCount'] / len(df_cc)\n",
    "missing_summary = missing_summary[missing_summary['MissingCount'] > 0].reset_index()\n",
    "missing_summary.columns = ['Row', 'MissingCount', 'MissingRatio']\n",
    "\n",
    "# Normalize keys for merge\n",
    "desc_cc['Row_clean'] = desc_cc['Row'].astype(str).str.strip().str.upper()\n",
    "missing_summary['Row_clean'] = missing_summary['Row'].astype(str).str.strip().str.upper()\n",
    "\n",
    "# Merge\n",
    "missing_merged = pd.merge(\n",
    "    missing_summary,\n",
    "    desc_cc[['Row_clean', 'Description']],\n",
    "    on='Row_clean',\n",
    "    how='left'\n",
    ")\n",
    "\n",
    "# Restore original row name\n",
    "missing_merged['Row'] = missing_summary['Row']\n",
    "\n",
    "# Display result\n",
    "display(missing_merged[['Row', 'MissingRatio', 'Description']])\n"
   ]
  },
  {
   "cell_type": "markdown",
   "id": "b8f11d3b",
   "metadata": {},
   "source": [
    "### POS Cash Balance"
   ]
  },
  {
   "cell_type": "code",
   "execution_count": 9,
   "id": "a79578f1",
   "metadata": {},
   "outputs": [
    {
     "data": {
      "application/vnd.microsoft.datawrangler.viewer.v0+json": {
       "columns": [
        {
         "name": "index",
         "rawType": "int64",
         "type": "integer"
        },
        {
         "name": "Row",
         "rawType": "object",
         "type": "string"
        },
        {
         "name": "MissingRatio",
         "rawType": "float64",
         "type": "float"
        },
        {
         "name": "Description",
         "rawType": "object",
         "type": "string"
        }
       ],
       "ref": "90d0e896-d8bc-4ea7-87c7-28130083104b",
       "rows": [
        [
         "0",
         "CNT_INSTALMENT",
         "0.0026067460038926714",
         "Term of previous credit (can change over time)"
        ],
        [
         "1",
         "CNT_INSTALMENT_FUTURE",
         "0.002608345786642174",
         "Installments left to pay on the previous credit"
        ]
       ],
       "shape": {
        "columns": 3,
        "rows": 2
       }
      },
      "text/html": [
       "<div>\n",
       "<style scoped>\n",
       "    .dataframe tbody tr th:only-of-type {\n",
       "        vertical-align: middle;\n",
       "    }\n",
       "\n",
       "    .dataframe tbody tr th {\n",
       "        vertical-align: top;\n",
       "    }\n",
       "\n",
       "    .dataframe thead th {\n",
       "        text-align: right;\n",
       "    }\n",
       "</style>\n",
       "<table border=\"1\" class=\"dataframe\">\n",
       "  <thead>\n",
       "    <tr style=\"text-align: right;\">\n",
       "      <th></th>\n",
       "      <th>Row</th>\n",
       "      <th>MissingRatio</th>\n",
       "      <th>Description</th>\n",
       "    </tr>\n",
       "  </thead>\n",
       "  <tbody>\n",
       "    <tr>\n",
       "      <th>0</th>\n",
       "      <td>CNT_INSTALMENT</td>\n",
       "      <td>0.002607</td>\n",
       "      <td>Term of previous credit (can change over time)</td>\n",
       "    </tr>\n",
       "    <tr>\n",
       "      <th>1</th>\n",
       "      <td>CNT_INSTALMENT_FUTURE</td>\n",
       "      <td>0.002608</td>\n",
       "      <td>Installments left to pay on the previous credit</td>\n",
       "    </tr>\n",
       "  </tbody>\n",
       "</table>\n",
       "</div>"
      ],
      "text/plain": [
       "                     Row  MissingRatio  \\\n",
       "0         CNT_INSTALMENT      0.002607   \n",
       "1  CNT_INSTALMENT_FUTURE      0.002608   \n",
       "\n",
       "                                       Description  \n",
       "0   Term of previous credit (can change over time)  \n",
       "1  Installments left to pay on the previous credit  "
      ]
     },
     "metadata": {},
     "output_type": "display_data"
    }
   ],
   "source": [
    "# Load files\n",
    "df_pos = pd.read_csv('POS_CASH_balance.csv')\n",
    "col_desc = pd.read_csv('HomeCredit_columns_description.csv', encoding='ISO-8859-1')\n",
    "\n",
    "# Clean column description\n",
    "col_desc_cleaned = col_desc[['Table', 'Row', 'Description']].copy()\n",
    "desc_pos = col_desc_cleaned[col_desc_cleaned['Table'].astype(str) == 'POS_CASH_balance.csv'].copy()\n",
    "\n",
    "# Profile missing values\n",
    "missing_summary = df_pos.isnull().sum().to_frame(name='MissingCount')\n",
    "missing_summary['MissingRatio'] = missing_summary['MissingCount'] / len(df_pos)\n",
    "missing_summary = missing_summary[missing_summary['MissingCount'] > 0].reset_index()\n",
    "missing_summary.columns = ['Row', 'MissingCount', 'MissingRatio']\n",
    "\n",
    "# Normalize keys for merge\n",
    "desc_pos['Row_clean'] = desc_pos['Row'].astype(str).str.strip().str.upper()\n",
    "missing_summary['Row_clean'] = missing_summary['Row'].astype(str).str.strip().str.upper()\n",
    "\n",
    "# Merge\n",
    "missing_merged = pd.merge(\n",
    "    missing_summary,\n",
    "    desc_pos[['Row_clean', 'Description']],\n",
    "    on='Row_clean',\n",
    "    how='left'\n",
    ")\n",
    "\n",
    "# Restore original row name\n",
    "missing_merged['Row'] = missing_summary['Row']\n",
    "\n",
    "# Display result\n",
    "display(missing_merged[['Row', 'MissingRatio', 'Description']])\n"
   ]
  },
  {
   "cell_type": "markdown",
   "id": "20c62e13",
   "metadata": {},
   "source": [
    "### Installments Payments"
   ]
  },
  {
   "cell_type": "code",
   "execution_count": 10,
   "id": "7f9b270f",
   "metadata": {},
   "outputs": [
    {
     "data": {
      "application/vnd.microsoft.datawrangler.viewer.v0+json": {
       "columns": [
        {
         "name": "index",
         "rawType": "int64",
         "type": "integer"
        },
        {
         "name": "Row",
         "rawType": "object",
         "type": "string"
        },
        {
         "name": "MissingRatio",
         "rawType": "float64",
         "type": "float"
        },
        {
         "name": "Description",
         "rawType": "object",
         "type": "string"
        }
       ],
       "ref": "dcbbf166-e5ed-4242-9d7a-37ee22c550ea",
       "rows": [
        [
         "0",
         "DAYS_ENTRY_PAYMENT",
         "0.00021351814621266952",
         "When was the installments of previous credit paid actually (relative to application date of current loan)"
        ],
        [
         "1",
         "AMT_PAYMENT",
         "0.00021351814621266952",
         "What the client actually paid on previous credit on this installment"
        ]
       ],
       "shape": {
        "columns": 3,
        "rows": 2
       }
      },
      "text/html": [
       "<div>\n",
       "<style scoped>\n",
       "    .dataframe tbody tr th:only-of-type {\n",
       "        vertical-align: middle;\n",
       "    }\n",
       "\n",
       "    .dataframe tbody tr th {\n",
       "        vertical-align: top;\n",
       "    }\n",
       "\n",
       "    .dataframe thead th {\n",
       "        text-align: right;\n",
       "    }\n",
       "</style>\n",
       "<table border=\"1\" class=\"dataframe\">\n",
       "  <thead>\n",
       "    <tr style=\"text-align: right;\">\n",
       "      <th></th>\n",
       "      <th>Row</th>\n",
       "      <th>MissingRatio</th>\n",
       "      <th>Description</th>\n",
       "    </tr>\n",
       "  </thead>\n",
       "  <tbody>\n",
       "    <tr>\n",
       "      <th>0</th>\n",
       "      <td>DAYS_ENTRY_PAYMENT</td>\n",
       "      <td>0.000214</td>\n",
       "      <td>When was the installments of previous credit paid actually (relative to application date of current loan)</td>\n",
       "    </tr>\n",
       "    <tr>\n",
       "      <th>1</th>\n",
       "      <td>AMT_PAYMENT</td>\n",
       "      <td>0.000214</td>\n",
       "      <td>What the client actually paid on previous credit on this installment</td>\n",
       "    </tr>\n",
       "  </tbody>\n",
       "</table>\n",
       "</div>"
      ],
      "text/plain": [
       "                  Row  MissingRatio  \\\n",
       "0  DAYS_ENTRY_PAYMENT      0.000214   \n",
       "1         AMT_PAYMENT      0.000214   \n",
       "\n",
       "                                                                                                 Description  \n",
       "0  When was the installments of previous credit paid actually (relative to application date of current loan)  \n",
       "1                                       What the client actually paid on previous credit on this installment  "
      ]
     },
     "metadata": {},
     "output_type": "display_data"
    }
   ],
   "source": [
    "# Load files\n",
    "df_install_pay = pd.read_csv('installments_payments.csv')\n",
    "col_desc = pd.read_csv('HomeCredit_columns_description.csv', encoding='ISO-8859-1')\n",
    "\n",
    "# Clean column description\n",
    "col_desc_cleaned = col_desc[['Table', 'Row', 'Description']].copy()\n",
    "desc_install_pay = col_desc_cleaned[col_desc_cleaned['Table'].astype(str) == 'installments_payments.csv'].copy()\n",
    "\n",
    "# Profile missing values\n",
    "missing_summary = df_install_pay.isnull().sum().to_frame(name='MissingCount')\n",
    "missing_summary['MissingRatio'] = missing_summary['MissingCount'] / len(df_install_pay)\n",
    "missing_summary = missing_summary[missing_summary['MissingCount'] > 0].reset_index()\n",
    "missing_summary.columns = ['Row', 'MissingCount', 'MissingRatio']\n",
    "\n",
    "# Normalize keys for merge\n",
    "desc_install_pay['Row_clean'] = desc_install_pay['Row'].astype(str).str.strip().str.upper()\n",
    "missing_summary['Row_clean'] = missing_summary['Row'].astype(str).str.strip().str.upper()\n",
    "\n",
    "# Merge\n",
    "missing_merged = pd.merge(\n",
    "    missing_summary,\n",
    "    desc_install_pay[['Row_clean', 'Description']],\n",
    "    on='Row_clean',\n",
    "    how='left'\n",
    ")\n",
    "\n",
    "# Restore original row name\n",
    "missing_merged['Row'] = missing_summary['Row']\n",
    "\n",
    "# Display result\n",
    "display(missing_merged[['Row', 'MissingRatio', 'Description']])\n"
   ]
  },
  {
   "cell_type": "markdown",
   "id": "f027317d",
   "metadata": {},
   "source": [
    "## Handliing Missing Values"
   ]
  },
  {
   "cell_type": "code",
   "execution_count": 11,
   "id": "870fab3f",
   "metadata": {},
   "outputs": [
    {
     "name": "stdout",
     "output_type": "stream",
     "text": [
      "Loaded 'application_train.csv' — shape: (307511, 122)\n",
      "Loaded 'application_test.csv' — shape: (48744, 121)\n",
      "Loaded 'bureau.csv' — shape: (1716428, 17)\n",
      "Loaded 'bureau_balance.csv' — shape: (27299925, 3)\n",
      "Loaded 'previous_application.csv' — shape: (1670214, 37)\n",
      "Loaded 'credit_card_balance.csv' — shape: (3840312, 23)\n",
      "Loaded 'POS_CASH_balance.csv' — shape: (10001358, 8)\n",
      "Loaded 'installments_payments.csv' — shape: (13605401, 8)\n",
      "\n",
      " Cleaning application.csv\n",
      "\n",
      " Cleaning application_test.csv\n",
      "\n",
      " Cleaning bureau.csv\n",
      "\n",
      " Cleaning bureau_balance.csv\n",
      "\n",
      " Cleaning previous_application.csv\n",
      "\n",
      " Cleaning credit_card_balance.csv\n",
      "\n",
      " Cleaning pos_cash.csv\n",
      "\n",
      " Cleaning installments.csv\n"
     ]
    },
    {
     "data": {
      "text/plain": [
       "Ellipsis"
      ]
     },
     "execution_count": 11,
     "metadata": {},
     "output_type": "execute_result"
    }
   ],
   "source": [
    "cleaned_tables = clean_all_home_credit_tables()\n",
    "\n",
    "cleaned_tables['application']\n",
    "cleaned_tables['bureau']\n",
    "cleaned_tables['installments']\n",
    "...\n"
   ]
  },
  {
   "cell_type": "markdown",
   "id": "a531e4ac",
   "metadata": {},
   "source": [
    "### Saving Cleaned Tables"
   ]
  },
  {
   "cell_type": "code",
   "execution_count": 12,
   "id": "3f9a38dd",
   "metadata": {},
   "outputs": [
    {
     "name": "stdout",
     "output_type": "stream",
     "text": [
      "Saving application_cleaned.csv ...\n",
      "Saving application_test_cleaned.csv ...\n",
      "Saving bureau_cleaned.csv ...\n",
      "Saving bureau_balance_cleaned.csv ...\n",
      "Saving previous_application_cleaned.csv ...\n",
      "Saving credit_card_balance_cleaned.csv ...\n",
      "Saving pos_cash_cleaned.csv ...\n",
      "Saving installments_cleaned.csv ...\n"
     ]
    }
   ],
   "source": [
    "for name, df in cleaned_tables.items():\n",
    "    print(f\"Saving {name}_cleaned.csv ...\")\n",
    "    df.to_csv(f\"{name}_cleaned.csv\", index=False)\n"
   ]
  },
  {
   "cell_type": "markdown",
   "id": "8ad23179",
   "metadata": {},
   "source": [
    "## Feature Engineering, Auxillary Tables"
   ]
  },
  {
   "cell_type": "markdown",
   "id": "802555d6",
   "metadata": {},
   "source": [
    "### Bureau Feature Block"
   ]
  },
  {
   "cell_type": "code",
   "execution_count": 13,
   "id": "20739e0a",
   "metadata": {},
   "outputs": [
    {
     "name": "stdout",
     "output_type": "stream",
     "text": [
      "(134542, 12)\n"
     ]
    }
   ],
   "source": [
    "\n",
    "# Load only required columns from bureau_balance and bureau\n",
    "df_bbal = pd.read_csv(\"bureau_balance.csv\", usecols=[\"SK_ID_BUREAU\", \"MONTHS_BALANCE\", \"STATUS\"])\n",
    "df_bureau = pd.read_csv(\"bureau_cleaned.csv\", usecols=[\"SK_ID_BUREAU\", \"SK_ID_CURR\"])\n",
    "\n",
    "# Join to get SK_ID_CURR in bureau_balance\n",
    "df_joined = df_bbal.merge(df_bureau, on=\"SK_ID_BUREAU\", how=\"left\")\n",
    "\n",
    "# One-hot encode STATUS\n",
    "status_dummies = pd.get_dummies(df_joined[\"STATUS\"], prefix=\"STATUS\")\n",
    "df_joined = pd.concat([df_joined, status_dummies], axis=1)\n",
    "\n",
    "# Aggregate temporal features by SK_ID_CURR\n",
    "agg_dict = {\n",
    "    \"MONTHS_BALANCE\": [\"min\", \"max\", \"count\"],\n",
    "    \"STATUS_0\": \"sum\",\n",
    "    \"STATUS_1\": \"sum\",\n",
    "    \"STATUS_2\": \"sum\",\n",
    "    \"STATUS_3\": \"sum\",\n",
    "    \"STATUS_4\": \"sum\",\n",
    "    \"STATUS_5\": \"sum\",\n",
    "    \"STATUS_C\": \"sum\",\n",
    "    \"STATUS_X\": \"sum\"\n",
    "}\n",
    "bureau_time_features = df_joined.groupby(\"SK_ID_CURR\").agg(agg_dict)\n",
    "\n",
    "# Flatten column names\n",
    "bureau_time_features.columns = [\"bureau_\" + \"_\".join(col) for col in bureau_time_features.columns]\n",
    "bureau_time_features.reset_index(inplace=True)\n",
    "\n",
    "# Save to CSV\n",
    "bureau_time_features.to_csv(\"bureau_time_features.csv\", index=False)\n",
    "\n",
    "# Optional: check shape\n",
    "print(bureau_time_features.shape)\n"
   ]
  },
  {
   "cell_type": "markdown",
   "id": "72be6cd5",
   "metadata": {},
   "source": [
    "### Bureau Balance Temporal Feature Engineering\n",
    "I engineered time-aware features from `bureau_balance.csv`, joined to the bureau table using `SK_ID_BUREAU`, and aggregated by `SK_ID_CURR`.\n",
    "\n",
    "Key steps:\n",
    "\n",
    "- Loaded only the relevant columns: `SK_ID_BUREAU`, `MONTHS_BALANCE`, `STATUS`  \n",
    "\n",
    "- Merged to get `SK_ID_CURR` from the bureau table  \n",
    "\n",
    "- One-hot encoded the monthly STATUS flags:\n",
    "    - STATUS values meaning: \n",
    "    \n",
    "        - 0 to 5: number of months past due (DPD)\n",
    "\n",
    "        - C: account was closed that month \n",
    "        \n",
    "        - X: no DPD / account not active that month\n",
    "\n",
    "- Aggregated features per client (SK_ID_CURR): \n",
    "\n",
    "- `MONTHS_BALANCE`: min, max, and count → reflects credit age, recency, and duration\n",
    "\n",
    "- `STATUS_`*: sum of each flag → counts of how many times the account was in each state \n",
    "\n",
    "\n",
    "Final output (bureau_time_features.csv) has 12 columns and preserves temporal credit risk dynamics such as delinquency history and duration of bureau activity.\n",
    "\n"
   ]
  },
  {
   "cell_type": "markdown",
   "id": "b72eb254",
   "metadata": {},
   "source": [
    "### Previous Application"
   ]
  },
  {
   "cell_type": "code",
   "execution_count": 14,
   "id": "65f85894",
   "metadata": {},
   "outputs": [
    {
     "name": "stdout",
     "output_type": "stream",
     "text": [
      "previous_application_features.csv  (338857, 10)\n"
     ]
    }
   ],
   "source": [
    "\n",
    "# Load cleaned data\n",
    "df_prev = pd.read_csv(\"previous_application_cleaned.csv\")\n",
    "\n",
    "# Define columns\n",
    "id_col = 'SK_ID_CURR'\n",
    "\n",
    "# One-hot encode application status\n",
    "status_dummies = pd.get_dummies(df_prev['NAME_CONTRACT_STATUS'], prefix='APP_STATUS')\n",
    "df_prev = pd.concat([df_prev, status_dummies], axis=1)\n",
    "\n",
    "# Aggregation logic\n",
    "agg_dict = {\n",
    "    'SK_ID_PREV': 'count',  # total number of previous applications\n",
    "    'DAYS_DECISION': ['min', 'max'],  # recency of applications\n",
    "    'AMT_APPLICATION': ['mean'],      # avg amount requested\n",
    "    'AMT_CREDIT': ['mean'],           # avg amount granted\n",
    "    'APP_STATUS_Approved': 'sum',\n",
    "    'APP_STATUS_Canceled': 'sum',\n",
    "    'APP_STATUS_Refused': 'sum',\n",
    "    'APP_STATUS_Unused offer': 'sum'\n",
    "}\n",
    "\n",
    "# Group and aggregate\n",
    "prev_time_features = df_prev.groupby(id_col).agg(agg_dict)\n",
    "\n",
    "# Flatten column names\n",
    "prev_time_features.columns = ['prev_' + '_'.join(col).strip() if isinstance(col, tuple) else f'prev_{col}'\n",
    "                              for col in prev_time_features.columns]\n",
    "\n",
    "# Reset index and save\n",
    "prev_time_features.reset_index(inplace=True)\n",
    "prev_time_features.to_csv(\"previous_application_features.csv\", index=False)\n",
    "\n",
    "# Optional: shape check\n",
    "print(\"previous_application_features.csv \", prev_time_features.shape)\n"
   ]
  },
  {
   "cell_type": "markdown",
   "id": "37de79ed",
   "metadata": {},
   "source": [
    "### Aggregating `previous_application.csv` — Preserving Time & Application Patterns\n",
    "\n",
    "This block summarizes key historical behaviors from the previous_application table while avoiding high-dimensional outputs:\n",
    "\n",
    "- Goal: Capture temporal and categorical trends in previous loans/applications per client (`SK_ID_CURR`) without exploding the feature space. \n",
    "\n",
    "- Steps Taken:\n",
    "    - One-hot encoded `NAME_CONTRACT_STATUS` to count the number of:\n",
    "        - Approved\n",
    "\n",
    "        - Refused\n",
    "\n",
    "        - Canceled\n",
    "\n",
    "        - Unused Offers\n",
    "\n",
    "- Aggregated `DAYS_DECISION` to extract application recency (min, max). \n",
    "\n",
    "- Averaged financial variables: \n",
    "\n",
    "    - `AMT_APPLICATION` – amount requested\n",
    "\n",
    "    - `AMT_CREDIT` – amount granted \n",
    "\n",
    "- Counted total previous applications using SK_ID_PREV. \n",
    "\n",
    "- Result: A lean, interpretable temporal feature table with ~10–12 columns per client"
   ]
  },
  {
   "cell_type": "markdown",
   "id": "9af44959",
   "metadata": {},
   "source": [
    "### Credit Card Balance"
   ]
  },
  {
   "cell_type": "code",
   "execution_count": 15,
   "id": "9a570262",
   "metadata": {},
   "outputs": [
    {
     "name": "stdout",
     "output_type": "stream",
     "text": [
      "(103558, 9)\n"
     ]
    }
   ],
   "source": [
    "# Load cleaned credit card data\n",
    "df_cc = pd.read_csv(\"credit_card_balance_cleaned.csv\")\n",
    "\n",
    "# Optional: reduce to necessary columns for speed\n",
    "df_cc = df_cc[[\n",
    "    \"SK_ID_CURR\", \"MONTHS_BALANCE\",\n",
    "    \"AMT_BALANCE\", \"AMT_CREDIT_LIMIT_ACTUAL\",\n",
    "    \"AMT_DRAWINGS_CURRENT\", \"CNT_INSTALMENT_MATURE_CUM\"\n",
    "]]\n",
    "\n",
    "# Group and aggregate\n",
    "cc_agg = df_cc.groupby(\"SK_ID_CURR\").agg({\n",
    "    \"MONTHS_BALANCE\": [\"min\", \"max\", \"count\"],\n",
    "    \"AMT_BALANCE\": \"mean\",\n",
    "    \"AMT_CREDIT_LIMIT_ACTUAL\": \"mean\",\n",
    "    \"AMT_DRAWINGS_CURRENT\": [\"sum\", \"mean\"],\n",
    "    \"CNT_INSTALMENT_MATURE_CUM\": \"mean\"\n",
    "})\n",
    "\n",
    "# Flatten column names\n",
    "cc_agg.columns = [f\"cc_{'_'.join(col)}\" for col in cc_agg.columns]\n",
    "cc_agg.reset_index(inplace=True)\n",
    "\n",
    "# Save to disk\n",
    "cc_agg.to_csv(\"credit_card_balance_features.csv\", index=False)\n",
    "print(cc_agg.shape)\n"
   ]
  },
  {
   "cell_type": "markdown",
   "id": "d41004d6",
   "metadata": {},
   "source": [
    "### Feature Engineering: `credit_card_balance.csv`\n",
    "\n",
    "This block aggregates temporal and behavioral patterns from the `credit_card_balance` table per client (`SK_ID_CURR`) while preserving essential time-based information.\n",
    "\n",
    "#### Features created:\n",
    "\n",
    "- `cc_MONTHS_BALANCE_min`: The most recent statement month (e.g., -1 is most recent).\n",
    "\n",
    "- `cc_MONTHS_BALANCE_max`: The earliest statement available (i.e., longest time on file).\n",
    "\n",
    "- `cc_MONTHS_BALANCE_count`: Number of monthly statements (proxy for duration of card activity).\n",
    "\n",
    "- `cc_AMT_BALANCE_mean`: Average monthly balance across all months.\n",
    "\n",
    "- `cc_AMT_CREDIT_LIMIT_ACTUAL_mean`: Average credit limit (client capacity).\n",
    "\n",
    "- `cc_AMT_DRAWINGS_CURRENT_sum`: Total amount drawn from credit card (indicative of usage).\n",
    "\n",
    "- `cc_AMT_DRAWINGS_CURRENT_mean`: Average monthly draw amount.\n",
    "\n",
    "- `cc_CNT_INSTALMENT_MATURE_CUM_mean`: Average number of expected installments (credit type indicator).\n",
    "\n",
    "These features help capture **recency**, **activity intensity**, and **account longevity**, all of which are predictive in credit risk modeling.\n"
   ]
  },
  {
   "cell_type": "markdown",
   "id": "262bcdf3",
   "metadata": {},
   "source": [
    "### POS Cash"
   ]
  },
  {
   "cell_type": "code",
   "execution_count": 16,
   "id": "e096187f",
   "metadata": {},
   "outputs": [
    {
     "name": "stdout",
     "output_type": "stream",
     "text": [
      "(337252, 8)\n"
     ]
    }
   ],
   "source": [
    "# Load cleaned POS_CASH_balance\n",
    "df_pos = pd.read_csv(\"pos_cash_cleaned.csv\")\n",
    "\n",
    "# Filter only needed columns for compact memory usage\n",
    "df_pos = df_pos[[\n",
    "    \"SK_ID_CURR\", \"MONTHS_BALANCE\",\n",
    "    \"CNT_INSTALMENT\", \"CNT_INSTALMENT_FUTURE\"\n",
    "]]\n",
    "\n",
    "# Aggregate by SK_ID_CURR\n",
    "pos_agg = df_pos.groupby(\"SK_ID_CURR\").agg({\n",
    "    \"MONTHS_BALANCE\": [\"min\", \"max\", \"count\"],\n",
    "    \"CNT_INSTALMENT\": [\"mean\", \"max\"],\n",
    "    \"CNT_INSTALMENT_FUTURE\": [\"mean\", \"max\"]\n",
    "})\n",
    "\n",
    "# Flatten column names\n",
    "pos_agg.columns = [f\"pos_{'_'.join(col)}\" for col in pos_agg.columns]\n",
    "pos_agg.reset_index(inplace=True)\n",
    "\n",
    "# Save\n",
    "pos_agg.to_csv(\"pos_cash_features.csv\", index=False)\n",
    "print(pos_agg.shape)\n"
   ]
  },
  {
   "cell_type": "markdown",
   "id": "c52d1f80",
   "metadata": {},
   "source": [
    "### Feature Engineering: `pos_cash_cleaned.csv`\n",
    "\n",
    "This block summarizes a client's point-of-sale and installment loan performance over time by aggregating records per `SK_ID_CURR`.\n",
    "\n",
    "#### Features created:\n",
    "\n",
    "- `pos_MONTHS_BALANCE_min`: Most recent POS loan update (e.g., -1 = current). \n",
    "\n",
    "- `pos_MONTHS_BALANCE_max`: Longest historical record available. \n",
    "\n",
    "- `pos_MONTHS_BALANCE_count`: Total POS loan statements — proxy for activity duration. \n",
    "\n",
    "- `pos_CNT_INSTALMENT_mean` / `max`: Typical and peak number of installments (credit scale). \n",
    "\n",
    "- `pos_CNT_INSTALMENT_FUTURE_mean` / `max`: Expected future repayments — proxy for outstanding obligations.\n",
    "\n",
    "These time-aware features capture **loan frequency**, **repayment structure**, and **credit longevity**, all useful in default prediction.\n"
   ]
  },
  {
   "cell_type": "markdown",
   "id": "45553e57",
   "metadata": {},
   "source": [
    "### Installments Payments"
   ]
  },
  {
   "cell_type": "code",
   "execution_count": 17,
   "id": "618cdb9c",
   "metadata": {},
   "outputs": [
    {
     "name": "stdout",
     "output_type": "stream",
     "text": [
      "(339587, 12)\n"
     ]
    }
   ],
   "source": [
    "# Load cleaned installments data\n",
    "df_inst = pd.read_csv(\"installments_cleaned.csv\")\n",
    "\n",
    "# Create derived features\n",
    "df_inst['PAYMENT_DELAY'] = df_inst['DAYS_ENTRY_PAYMENT'] - df_inst['DAYS_INSTALMENT']\n",
    "df_inst['PAYMENT_DIFF'] = df_inst['AMT_PAYMENT'] - df_inst['AMT_INSTALMENT']\n",
    "\n",
    "# Aggregate per client\n",
    "inst_agg = df_inst.groupby(\"SK_ID_CURR\").agg({\n",
    "    'DAYS_INSTALMENT': ['min', 'max'],\n",
    "    'PAYMENT_DELAY': ['mean', 'max', 'min'],\n",
    "    'PAYMENT_DIFF': ['mean', 'min', 'max'],\n",
    "    'AMT_INSTALMENT': 'mean',\n",
    "    'AMT_PAYMENT': 'mean',\n",
    "    'SK_ID_PREV': 'count'\n",
    "})\n",
    "\n",
    "# Flatten column names\n",
    "inst_agg.columns = [f\"inst_{'_'.join(col)}\" for col in inst_agg.columns]\n",
    "inst_agg.reset_index(inplace=True)\n",
    "\n",
    "# Save\n",
    "inst_agg.to_csv(\"installments_features.csv\", index=False)\n",
    "print(inst_agg.shape)\n"
   ]
  },
  {
   "cell_type": "markdown",
   "id": "3fc21c98",
   "metadata": {},
   "source": [
    "### Feature Engineering: `installments_payments.csv`\n",
    "\n",
    "This block creates repayment behavior features from the client's installment loan history, grouped by `SK_ID_CURR`.\n",
    "\n",
    "#### Features created:\n",
    "\n",
    "- `inst_DAYS_INSTALMENT_min` / `max`: Earliest and latest scheduled payment due dates. \n",
    "\n",
    "- `inst_PAYMENT_DELAY_mean` / `min` / `max`: Average days early or late payment was made (`DAYS_ENTRY_PAYMENT - DAYS_INSTALMENT`). \n",
    "\n",
    "- `inst_PAYMENT_DIFF_mean` / `min` / `max`: Difference between amount paid and amount due (`AMT_PAYMENT - AMT_INSTALMENT`), highlighting under/overpayments. \n",
    "\n",
    "- `inst_AMT_INSTALMENT_mean`: Typical scheduled payment amount. \n",
    "\n",
    "- `inst_AMT_PAYMENT_mean`: Typical actual payment amount. \n",
    "\n",
    "- `inst_SK_ID_PREV_count`: Total number of installment payments made. \n",
    "\n",
    "These features reflect **timing**, **compliance**, and **repayment behavior**, which are strong indicators of creditworthiness.\n"
   ]
  },
  {
   "cell_type": "markdown",
   "id": "f177abc0",
   "metadata": {},
   "source": [
    "### Final Merge"
   ]
  },
  {
   "cell_type": "code",
   "execution_count": 18,
   "id": "d27c46e7",
   "metadata": {},
   "outputs": [
    {
     "name": "stdout",
     "output_type": "stream",
     "text": [
      " Merging bureau_time_features.csv ...\n",
      " Merging previous_application_features.csv ...\n",
      " Merging credit_card_balance_features.csv ...\n",
      " Merging pos_cash_features.csv ...\n",
      " Merging installments_features.csv ...\n",
      " train_final.csv saved — shape: (307511, 272)\n"
     ]
    }
   ],
   "source": [
    "# Load base application table\n",
    "df_final = pd.read_csv(\"application_cleaned.csv\")\n",
    "\n",
    "# List of engineered feature files to merge\n",
    "feature_files = [\n",
    "    \"bureau_time_features.csv\",\n",
    "    \"previous_application_features.csv\",\n",
    "    \"credit_card_balance_features.csv\",\n",
    "    \"pos_cash_features.csv\",\n",
    "    \"installments_features.csv\"\n",
    "]\n",
    "\n",
    "# Sequentially merge each feature table\n",
    "for file in feature_files:\n",
    "    print(f\" Merging {file} ...\")\n",
    "    df_feat = pd.read_csv(file)\n",
    "    df_final = df_final.merge(df_feat, on=\"SK_ID_CURR\", how=\"left\")\n",
    "\n",
    "# Save final merged dataset\n",
    "df_final.to_csv(\"train_final.csv\", index=False)\n",
    "print(\" train_final.csv saved — shape:\", df_final.shape)\n"
   ]
  },
  {
   "cell_type": "code",
   "execution_count": 19,
   "id": "74848898",
   "metadata": {},
   "outputs": [
    {
     "name": "stdout",
     "output_type": "stream",
     "text": [
      "Saved train_final_compact.csv — shape: (307511, 146)\n"
     ]
    }
   ],
   "source": [
    "# Load the full merged dataset\n",
    "df_final = pd.read_csv(\"train_final.csv\")\n",
    "\n",
    "# === 1. DROP excess FLAG_* columns except important ones ===\n",
    "keep_flags = [\n",
    "    'FLAG_OWN_CAR', 'FLAG_OWN_REALTY',\n",
    "    'FLAG_MOBIL', 'FLAG_EMP_PHONE',\n",
    "    'FLAG_WORK_PHONE', 'FLAG_PHONE',\n",
    "    'FLAG_EMAIL'\n",
    "]\n",
    "\n",
    "flag_cols = [col for col in df_final.columns if col.startswith(\"FLAG_\") and col not in keep_flags]\n",
    "df_final.drop(columns=flag_cols, inplace=True)\n",
    "\n",
    "# === 2. DROP _MISSING flag columns ===\n",
    "missing_cols = [col for col in df_final.columns if col.endswith('_MISSING')]\n",
    "df_final.drop(columns=missing_cols, inplace=True)\n",
    "\n",
    "# === 3. DROP SK_ID_CURR (optional for modeling) ===\n",
    "if 'SK_ID_CURR' in df_final.columns:\n",
    "    df_final.drop(columns=['SK_ID_CURR'], inplace=True)\n",
    "\n",
    "# === 4. Save compact version ===\n",
    "df_final.to_csv(\"train_final_compact.csv\", index=False)\n",
    "print(\"Saved train_final_compact.csv — shape:\", df_final.shape)\n"
   ]
  },
  {
   "cell_type": "markdown",
   "id": "a9de05c6",
   "metadata": {},
   "source": [
    "### Test Dataset Merge"
   ]
  },
  {
   "cell_type": "code",
   "execution_count": 20,
   "id": "7bd0bca5",
   "metadata": {},
   "outputs": [
    {
     "name": "stdout",
     "output_type": "stream",
     "text": [
      " Merging bureau_time_features.csv ...\n",
      " Merging previous_application_features.csv ...\n",
      " Merging credit_card_balance_features.csv ...\n",
      " Merging pos_cash_features.csv ...\n",
      " Merging installments_features.csv ...\n",
      " test_final.csv saved — shape: (48744, 271)\n"
     ]
    }
   ],
   "source": [
    "# Load base application table\n",
    "df_test = pd.read_csv(\"application_test_cleaned.csv\")\n",
    "\n",
    "# List of engineered feature files to merge\n",
    "feature_files = [\n",
    "    \"bureau_time_features.csv\",\n",
    "    \"previous_application_features.csv\",\n",
    "    \"credit_card_balance_features.csv\",\n",
    "    \"pos_cash_features.csv\",\n",
    "    \"installments_features.csv\"\n",
    "]\n",
    "\n",
    "# Sequentially merge each feature table\n",
    "for file in feature_files:\n",
    "    print(f\" Merging {file} ...\")\n",
    "    df_feat = pd.read_csv(file)\n",
    "    df_test = df_test.merge(df_feat, on=\"SK_ID_CURR\", how=\"left\")\n",
    "\n",
    "# Save final merged dataset\n",
    "df_test.to_csv(\"test_final.csv\", index=False)\n",
    "print(\" test_final.csv saved — shape:\", df_test.shape)\n"
   ]
  },
  {
   "cell_type": "code",
   "execution_count": 21,
   "id": "78f39e49",
   "metadata": {},
   "outputs": [
    {
     "name": "stdout",
     "output_type": "stream",
     "text": [
      "Saved test_final_compact.csv — shape: (48744, 146)\n"
     ]
    }
   ],
   "source": [
    "# Load the full merged dataset\n",
    "df_test = pd.read_csv(\"test_final.csv\")\n",
    "\n",
    "# === 1. DROP excess FLAG_* columns except important ones ===\n",
    "keep_flags = [\n",
    "    'FLAG_OWN_CAR', 'FLAG_OWN_REALTY',\n",
    "    'FLAG_MOBIL', 'FLAG_EMP_PHONE',\n",
    "    'FLAG_WORK_PHONE', 'FLAG_PHONE',\n",
    "    'FLAG_EMAIL'\n",
    "]\n",
    "\n",
    "flag_cols = [col for col in df_test.columns if col.startswith(\"FLAG_\") and col not in keep_flags]\n",
    "df_test.drop(columns=flag_cols, inplace=True)\n",
    "\n",
    "# === 2. DROP _MISSING flag columns ===\n",
    "missing_cols = [col for col in df_test.columns if col.endswith('_MISSING')]\n",
    "df_test.drop(columns=missing_cols, inplace=True)\n",
    "\n",
    "# === 4. Save compact version ===\n",
    "df_test.to_csv(\"test_final_compact.csv\", index=False)\n",
    "print(\"Saved test_final_compact.csv — shape:\", df_test.shape)\n"
   ]
  }
 ],
 "metadata": {
  "kernelspec": {
   "display_name": ".venv (3.11.5)",
   "language": "python",
   "name": "python3"
  },
  "language_info": {
   "codemirror_mode": {
    "name": "ipython",
    "version": 3
   },
   "file_extension": ".py",
   "mimetype": "text/x-python",
   "name": "python",
   "nbconvert_exporter": "python",
   "pygments_lexer": "ipython3",
   "version": "3.11.5"
  }
 },
 "nbformat": 4,
 "nbformat_minor": 5
}
